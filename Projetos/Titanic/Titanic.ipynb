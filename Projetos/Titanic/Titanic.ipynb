{
  "cells": [
    {
      "cell_type": "code",
      "execution_count": 3,
      "id": "c0b11900-e97c-4fd3-b984-8028ba0c6a18",
      "metadata": {
        "id": "c0b11900-e97c-4fd3-b984-8028ba0c6a18"
      },
      "outputs": [],
      "source": [
        "# importar os pacotes necessários\n",
        "import pandas as pd\n",
        "import numpy as np\n",
        "import matplotlib.pyplot as plt\n",
        "import seaborn as sns\n",
        "\n",
        "# permitir visualizar todas as colunas\n",
        "pd.options.display.max_columns = None\n",
        "\n",
        "# renderizar os gráficos diretamento no notebook\n",
        "# %matplotlib inline"
      ]
    },
    {
      "cell_type": "code",
      "execution_count": 5,
      "id": "641aa71c-c037-4755-a8de-23164c681762",
      "metadata": {
        "id": "641aa71c-c037-4755-a8de-23164c681762"
      },
      "outputs": [],
      "source": [
        "train = pd.read_csv('train.csv')\n",
        "test = pd.read_csv('test.csv')"
      ]
    },
    {
      "cell_type": "markdown",
      "id": "b5c4b608-4631-40ef-8be0-c048f70dc39f",
      "metadata": {
        "id": "b5c4b608-4631-40ef-8be0-c048f70dc39f"
      },
      "source": [
        "Q1. Quantas variáveis (colunas) e quantas entradas (linhas) possui o arquivo?"
      ]
    },
    {
      "cell_type": "code",
      "execution_count": 7,
      "id": "5006fa70-5a30-4af4-9fb5-f6af1397e804",
      "metadata": {
        "colab": {
          "base_uri": "https://localhost:8080/",
          "height": 0
        },
        "id": "5006fa70-5a30-4af4-9fb5-f6af1397e804",
        "outputId": "06aa30be-4f1d-44d1-c598-725fa8cc84d1"
      },
      "outputs": [
        {
          "output_type": "stream",
          "name": "stdout",
          "text": [
            "Variáveis:\t12\n",
            "Entradas:\t891\n"
          ]
        }
      ],
      "source": [
        "# verificando as dimensões do DataFrame\n",
        "print(\"Variáveis:\\t{}\\nEntradas:\\t{}\".format(train.shape[1], train.shape[0]))\n"
      ]
    },
    {
      "cell_type": "markdown",
      "id": "758b58e5-c11b-4fee-8f75-380ed9b363c3",
      "metadata": {
        "id": "758b58e5-c11b-4fee-8f75-380ed9b363c3"
      },
      "source": [
        "3. Exploração dos Dados<br/>\n",
        "Em uma análise inicial, serão estudadas cada variável. É importante verificar seu nome, tipo, porcentagem de valores faltantes, presença de outliers e tipo de distribuição.<br/>\n",
        "\n",
        "Como se trata de um Aprendizado Supervisionado (Supervised Learning), a variável Survived é definida como sendo a nossa variável alvo (target).<br/>\n",
        "\n",
        "Dicionário de Dados<br/>\n",
        "PassengerId: Número de identificação do passageiro<br/>\n",
        "Survived: Informa se o passageiro sobreviveu ao desastre<br/>\n",
        "\n",
        "0 = Não<br/>\n",
        "1 = Sim<br/>\n",
        "Pclass: Classe do bilhete<br/>\n",
        "1 = 1ª Classe<br/>\n",
        "2 = 2ª Classe<br/>\n",
        "3 = 3ª Classe<br/>\n",
        "Name: Nome do passageiro<br/>\n",
        "Sex: Sexo do passageiro<br/>\n",
        "Age: Idade do passageiro<br/>\n",
        "SibSp: Quantidade de cônjuges e irmãos a bordo<br/>\n",
        "Parch: Quantidade de pais e filhos a bordo<br/>\n",
        "Ticket: Número da passagem<br/>\n",
        "Fare: Preço da Passagem<br/>\n",
        "Cabin: Número da cabine do passageiro<br/>\n",
        "Embarked: Porto no qual o passageiro embarcou<br/>\n",
        "C = Cherbourg<br/>\n",
        "Q = Queenstown<br/>\n",
        "S = Southampton<br/>\n",
        "Q1. Quais os tipos de cada variável?<br/>\n",
        "\n",
        "Variáveis Numéricas<br/>\n",
        "Discretas<br/>\n",
        "Pclass<br/>\n",
        "SibSp<br/>\n",
        "Parch<br/>\n",
        "Contínuas<br/>\n",
        "Age<br/>\n",
        "Fare<br/>\n",
        "Alvo<br/>\n",
        "Survived<br/>\n",
        "Chave Primária<br/>\n",
        "PassengerId<br/>\n",
        "Variáveis Categóricas<br/>\n",
        "Name<br/>\n",
        "Sex<br/>\n",
        "Ticket<br/>\n",
        "Cabin<br/>\n",
        "Embarked<br/>\n"
      ]
    },
    {
      "cell_type": "code",
      "execution_count": 42,
      "id": "44d0d4b1-e198-4f98-9704-8d7b617dde62",
      "metadata": {
        "colab": {
          "base_uri": "https://localhost:8080/",
          "height": 397
        },
        "id": "44d0d4b1-e198-4f98-9704-8d7b617dde62",
        "outputId": "2414187e-bd00-4aad-ee58-bb94082a6b07"
      },
      "outputs": [
        {
          "output_type": "display_data",
          "data": {
            "text/plain": [
              "Pclass            int64\n",
              "Sex               int64\n",
              "Age             float64\n",
              "SibSp             int64\n",
              "Parch             int64\n",
              "Fare            float64\n",
              "Embarked_914      uint8\n",
              "Embarked_C        uint8\n",
              "Embarked_Q        uint8\n",
              "Embarked_S        uint8\n",
              "dtype: object"
            ]
          },
          "metadata": {}
        },
        {
          "output_type": "display_data",
          "data": {
            "text/plain": [
              "   Pclass  Sex   Age  SibSp  Parch     Fare  Embarked_914  Embarked_C  \\\n",
              "0       3    0  22.0      1      0   7.2500             0           0   \n",
              "1       1    1  38.0      1      0  71.2833             0           1   \n",
              "2       3    1  26.0      0      0   7.9250             0           0   \n",
              "3       1    1  35.0      1      0  53.1000             0           0   \n",
              "4       3    0  35.0      0      0   8.0500             0           0   \n",
              "\n",
              "   Embarked_Q  Embarked_S  \n",
              "0           0           1  \n",
              "1           0           0  \n",
              "2           0           1  \n",
              "3           0           1  \n",
              "4           0           1  "
            ],
            "text/html": [
              "\n",
              "  <div id=\"df-f540048a-5e22-4de6-aa01-b089a5ecad93\">\n",
              "    <div class=\"colab-df-container\">\n",
              "      <div>\n",
              "<style scoped>\n",
              "    .dataframe tbody tr th:only-of-type {\n",
              "        vertical-align: middle;\n",
              "    }\n",
              "\n",
              "    .dataframe tbody tr th {\n",
              "        vertical-align: top;\n",
              "    }\n",
              "\n",
              "    .dataframe thead th {\n",
              "        text-align: right;\n",
              "    }\n",
              "</style>\n",
              "<table border=\"1\" class=\"dataframe\">\n",
              "  <thead>\n",
              "    <tr style=\"text-align: right;\">\n",
              "      <th></th>\n",
              "      <th>Pclass</th>\n",
              "      <th>Sex</th>\n",
              "      <th>Age</th>\n",
              "      <th>SibSp</th>\n",
              "      <th>Parch</th>\n",
              "      <th>Fare</th>\n",
              "      <th>Embarked_914</th>\n",
              "      <th>Embarked_C</th>\n",
              "      <th>Embarked_Q</th>\n",
              "      <th>Embarked_S</th>\n",
              "    </tr>\n",
              "  </thead>\n",
              "  <tbody>\n",
              "    <tr>\n",
              "      <th>0</th>\n",
              "      <td>3</td>\n",
              "      <td>0</td>\n",
              "      <td>22.0</td>\n",
              "      <td>1</td>\n",
              "      <td>0</td>\n",
              "      <td>7.2500</td>\n",
              "      <td>0</td>\n",
              "      <td>0</td>\n",
              "      <td>0</td>\n",
              "      <td>1</td>\n",
              "    </tr>\n",
              "    <tr>\n",
              "      <th>1</th>\n",
              "      <td>1</td>\n",
              "      <td>1</td>\n",
              "      <td>38.0</td>\n",
              "      <td>1</td>\n",
              "      <td>0</td>\n",
              "      <td>71.2833</td>\n",
              "      <td>0</td>\n",
              "      <td>1</td>\n",
              "      <td>0</td>\n",
              "      <td>0</td>\n",
              "    </tr>\n",
              "    <tr>\n",
              "      <th>2</th>\n",
              "      <td>3</td>\n",
              "      <td>1</td>\n",
              "      <td>26.0</td>\n",
              "      <td>0</td>\n",
              "      <td>0</td>\n",
              "      <td>7.9250</td>\n",
              "      <td>0</td>\n",
              "      <td>0</td>\n",
              "      <td>0</td>\n",
              "      <td>1</td>\n",
              "    </tr>\n",
              "    <tr>\n",
              "      <th>3</th>\n",
              "      <td>1</td>\n",
              "      <td>1</td>\n",
              "      <td>35.0</td>\n",
              "      <td>1</td>\n",
              "      <td>0</td>\n",
              "      <td>53.1000</td>\n",
              "      <td>0</td>\n",
              "      <td>0</td>\n",
              "      <td>0</td>\n",
              "      <td>1</td>\n",
              "    </tr>\n",
              "    <tr>\n",
              "      <th>4</th>\n",
              "      <td>3</td>\n",
              "      <td>0</td>\n",
              "      <td>35.0</td>\n",
              "      <td>0</td>\n",
              "      <td>0</td>\n",
              "      <td>8.0500</td>\n",
              "      <td>0</td>\n",
              "      <td>0</td>\n",
              "      <td>0</td>\n",
              "      <td>1</td>\n",
              "    </tr>\n",
              "  </tbody>\n",
              "</table>\n",
              "</div>\n",
              "      <button class=\"colab-df-convert\" onclick=\"convertToInteractive('df-f540048a-5e22-4de6-aa01-b089a5ecad93')\"\n",
              "              title=\"Convert this dataframe to an interactive table.\"\n",
              "              style=\"display:none;\">\n",
              "        \n",
              "  <svg xmlns=\"http://www.w3.org/2000/svg\" height=\"24px\"viewBox=\"0 0 24 24\"\n",
              "       width=\"24px\">\n",
              "    <path d=\"M0 0h24v24H0V0z\" fill=\"none\"/>\n",
              "    <path d=\"M18.56 5.44l.94 2.06.94-2.06 2.06-.94-2.06-.94-.94-2.06-.94 2.06-2.06.94zm-11 1L8.5 8.5l.94-2.06 2.06-.94-2.06-.94L8.5 2.5l-.94 2.06-2.06.94zm10 10l.94 2.06.94-2.06 2.06-.94-2.06-.94-.94-2.06-.94 2.06-2.06.94z\"/><path d=\"M17.41 7.96l-1.37-1.37c-.4-.4-.92-.59-1.43-.59-.52 0-1.04.2-1.43.59L10.3 9.45l-7.72 7.72c-.78.78-.78 2.05 0 2.83L4 21.41c.39.39.9.59 1.41.59.51 0 1.02-.2 1.41-.59l7.78-7.78 2.81-2.81c.8-.78.8-2.07 0-2.86zM5.41 20L4 18.59l7.72-7.72 1.47 1.35L5.41 20z\"/>\n",
              "  </svg>\n",
              "      </button>\n",
              "      \n",
              "  <style>\n",
              "    .colab-df-container {\n",
              "      display:flex;\n",
              "      flex-wrap:wrap;\n",
              "      gap: 12px;\n",
              "    }\n",
              "\n",
              "    .colab-df-convert {\n",
              "      background-color: #E8F0FE;\n",
              "      border: none;\n",
              "      border-radius: 50%;\n",
              "      cursor: pointer;\n",
              "      display: none;\n",
              "      fill: #1967D2;\n",
              "      height: 32px;\n",
              "      padding: 0 0 0 0;\n",
              "      width: 32px;\n",
              "    }\n",
              "\n",
              "    .colab-df-convert:hover {\n",
              "      background-color: #E2EBFA;\n",
              "      box-shadow: 0px 1px 2px rgba(60, 64, 67, 0.3), 0px 1px 3px 1px rgba(60, 64, 67, 0.15);\n",
              "      fill: #174EA6;\n",
              "    }\n",
              "\n",
              "    [theme=dark] .colab-df-convert {\n",
              "      background-color: #3B4455;\n",
              "      fill: #D2E3FC;\n",
              "    }\n",
              "\n",
              "    [theme=dark] .colab-df-convert:hover {\n",
              "      background-color: #434B5C;\n",
              "      box-shadow: 0px 1px 3px 1px rgba(0, 0, 0, 0.15);\n",
              "      filter: drop-shadow(0px 1px 2px rgba(0, 0, 0, 0.3));\n",
              "      fill: #FFFFFF;\n",
              "    }\n",
              "  </style>\n",
              "\n",
              "      <script>\n",
              "        const buttonEl =\n",
              "          document.querySelector('#df-f540048a-5e22-4de6-aa01-b089a5ecad93 button.colab-df-convert');\n",
              "        buttonEl.style.display =\n",
              "          google.colab.kernel.accessAllowed ? 'block' : 'none';\n",
              "\n",
              "        async function convertToInteractive(key) {\n",
              "          const element = document.querySelector('#df-f540048a-5e22-4de6-aa01-b089a5ecad93');\n",
              "          const dataTable =\n",
              "            await google.colab.kernel.invokeFunction('convertToInteractive',\n",
              "                                                     [key], {});\n",
              "          if (!dataTable) return;\n",
              "\n",
              "          const docLinkHtml = 'Like what you see? Visit the ' +\n",
              "            '<a target=\"_blank\" href=https://colab.research.google.com/notebooks/data_table.ipynb>data table notebook</a>'\n",
              "            + ' to learn more about interactive tables.';\n",
              "          element.innerHTML = '';\n",
              "          dataTable['output_type'] = 'display_data';\n",
              "          await google.colab.output.renderOutput(dataTable, element);\n",
              "          const docLink = document.createElement('div');\n",
              "          docLink.innerHTML = docLinkHtml;\n",
              "          element.appendChild(docLink);\n",
              "        }\n",
              "      </script>\n",
              "    </div>\n",
              "  </div>\n",
              "  "
            ]
          },
          "metadata": {}
        }
      ],
      "source": [
        "# identificar o tipo de cada variável\n",
        "display(train.dtypes)\n",
        "\n",
        "# ver as 5 primeiras entradas do conjunto de treino\n",
        "display(train.head())\n"
      ]
    },
    {
      "cell_type": "markdown",
      "id": "f9e8f30e-75c7-4f15-9587-056c2954b398",
      "metadata": {
        "id": "f9e8f30e-75c7-4f15-9587-056c2954b398"
      },
      "source": [
        "Q2. Qual a porcentagem de valores faltantes?\n",
        "\n",
        "A informação sobre a Cabin é a que possui o maior número de informações faltantes, com mais de 77%. Após, a coluna Age não possui valor em quase 20% dos passageiros. Por fim, a coluna informando o Porto de embarque (Embarked) possui apenas 2% de informações faltantes."
      ]
    },
    {
      "cell_type": "code",
      "execution_count": 9,
      "id": "a325dd99-3689-4f9a-b0a8-e5211c05af6d",
      "metadata": {
        "colab": {
          "base_uri": "https://localhost:8080/",
          "height": 0
        },
        "id": "a325dd99-3689-4f9a-b0a8-e5211c05af6d",
        "outputId": "829249f7-393e-409f-9e89-2ec801be4abe"
      },
      "outputs": [
        {
          "output_type": "execute_result",
          "data": {
            "text/plain": [
              "Cabin          0.771044\n",
              "Age            0.198653\n",
              "Embarked       0.002245\n",
              "PassengerId    0.000000\n",
              "Survived       0.000000\n",
              "Pclass         0.000000\n",
              "Name           0.000000\n",
              "Sex            0.000000\n",
              "SibSp          0.000000\n",
              "Parch          0.000000\n",
              "Ticket         0.000000\n",
              "Fare           0.000000\n",
              "dtype: float64"
            ]
          },
          "metadata": {},
          "execution_count": 9
        }
      ],
      "source": [
        "# ver a porcentagem valores faltantes\n",
        "(train.isnull().sum() / train.shape[0]).sort_values(ascending=False)\n"
      ]
    },
    {
      "cell_type": "markdown",
      "id": "8af19c09-ed0e-4628-be3e-2fce32d43e37",
      "metadata": {
        "id": "8af19c09-ed0e-4628-be3e-2fce32d43e37"
      },
      "source": [
        "Q3. Como é a distribuição estatística dos dados?"
      ]
    },
    {
      "cell_type": "code",
      "execution_count": 10,
      "id": "c1a89482-7ef5-4007-adce-98e4344b2d33",
      "metadata": {
        "colab": {
          "base_uri": "https://localhost:8080/",
          "height": 300
        },
        "id": "c1a89482-7ef5-4007-adce-98e4344b2d33",
        "outputId": "82d7845b-4770-4236-a2a2-55729c1923c9"
      },
      "outputs": [
        {
          "output_type": "execute_result",
          "data": {
            "text/plain": [
              "       PassengerId    Survived      Pclass         Age       SibSp  \\\n",
              "count   891.000000  891.000000  891.000000  714.000000  891.000000   \n",
              "mean    446.000000    0.383838    2.308642   29.699118    0.523008   \n",
              "std     257.353842    0.486592    0.836071   14.526497    1.102743   \n",
              "min       1.000000    0.000000    1.000000    0.420000    0.000000   \n",
              "25%     223.500000    0.000000    2.000000   20.125000    0.000000   \n",
              "50%     446.000000    0.000000    3.000000   28.000000    0.000000   \n",
              "75%     668.500000    1.000000    3.000000   38.000000    1.000000   \n",
              "max     891.000000    1.000000    3.000000   80.000000    8.000000   \n",
              "\n",
              "            Parch        Fare  \n",
              "count  891.000000  891.000000  \n",
              "mean     0.381594   32.204208  \n",
              "std      0.806057   49.693429  \n",
              "min      0.000000    0.000000  \n",
              "25%      0.000000    7.910400  \n",
              "50%      0.000000   14.454200  \n",
              "75%      0.000000   31.000000  \n",
              "max      6.000000  512.329200  "
            ],
            "text/html": [
              "\n",
              "  <div id=\"df-a1ae4662-4fb1-40b7-a780-47aa13f76a49\">\n",
              "    <div class=\"colab-df-container\">\n",
              "      <div>\n",
              "<style scoped>\n",
              "    .dataframe tbody tr th:only-of-type {\n",
              "        vertical-align: middle;\n",
              "    }\n",
              "\n",
              "    .dataframe tbody tr th {\n",
              "        vertical-align: top;\n",
              "    }\n",
              "\n",
              "    .dataframe thead th {\n",
              "        text-align: right;\n",
              "    }\n",
              "</style>\n",
              "<table border=\"1\" class=\"dataframe\">\n",
              "  <thead>\n",
              "    <tr style=\"text-align: right;\">\n",
              "      <th></th>\n",
              "      <th>PassengerId</th>\n",
              "      <th>Survived</th>\n",
              "      <th>Pclass</th>\n",
              "      <th>Age</th>\n",
              "      <th>SibSp</th>\n",
              "      <th>Parch</th>\n",
              "      <th>Fare</th>\n",
              "    </tr>\n",
              "  </thead>\n",
              "  <tbody>\n",
              "    <tr>\n",
              "      <th>count</th>\n",
              "      <td>891.000000</td>\n",
              "      <td>891.000000</td>\n",
              "      <td>891.000000</td>\n",
              "      <td>714.000000</td>\n",
              "      <td>891.000000</td>\n",
              "      <td>891.000000</td>\n",
              "      <td>891.000000</td>\n",
              "    </tr>\n",
              "    <tr>\n",
              "      <th>mean</th>\n",
              "      <td>446.000000</td>\n",
              "      <td>0.383838</td>\n",
              "      <td>2.308642</td>\n",
              "      <td>29.699118</td>\n",
              "      <td>0.523008</td>\n",
              "      <td>0.381594</td>\n",
              "      <td>32.204208</td>\n",
              "    </tr>\n",
              "    <tr>\n",
              "      <th>std</th>\n",
              "      <td>257.353842</td>\n",
              "      <td>0.486592</td>\n",
              "      <td>0.836071</td>\n",
              "      <td>14.526497</td>\n",
              "      <td>1.102743</td>\n",
              "      <td>0.806057</td>\n",
              "      <td>49.693429</td>\n",
              "    </tr>\n",
              "    <tr>\n",
              "      <th>min</th>\n",
              "      <td>1.000000</td>\n",
              "      <td>0.000000</td>\n",
              "      <td>1.000000</td>\n",
              "      <td>0.420000</td>\n",
              "      <td>0.000000</td>\n",
              "      <td>0.000000</td>\n",
              "      <td>0.000000</td>\n",
              "    </tr>\n",
              "    <tr>\n",
              "      <th>25%</th>\n",
              "      <td>223.500000</td>\n",
              "      <td>0.000000</td>\n",
              "      <td>2.000000</td>\n",
              "      <td>20.125000</td>\n",
              "      <td>0.000000</td>\n",
              "      <td>0.000000</td>\n",
              "      <td>7.910400</td>\n",
              "    </tr>\n",
              "    <tr>\n",
              "      <th>50%</th>\n",
              "      <td>446.000000</td>\n",
              "      <td>0.000000</td>\n",
              "      <td>3.000000</td>\n",
              "      <td>28.000000</td>\n",
              "      <td>0.000000</td>\n",
              "      <td>0.000000</td>\n",
              "      <td>14.454200</td>\n",
              "    </tr>\n",
              "    <tr>\n",
              "      <th>75%</th>\n",
              "      <td>668.500000</td>\n",
              "      <td>1.000000</td>\n",
              "      <td>3.000000</td>\n",
              "      <td>38.000000</td>\n",
              "      <td>1.000000</td>\n",
              "      <td>0.000000</td>\n",
              "      <td>31.000000</td>\n",
              "    </tr>\n",
              "    <tr>\n",
              "      <th>max</th>\n",
              "      <td>891.000000</td>\n",
              "      <td>1.000000</td>\n",
              "      <td>3.000000</td>\n",
              "      <td>80.000000</td>\n",
              "      <td>8.000000</td>\n",
              "      <td>6.000000</td>\n",
              "      <td>512.329200</td>\n",
              "    </tr>\n",
              "  </tbody>\n",
              "</table>\n",
              "</div>\n",
              "      <button class=\"colab-df-convert\" onclick=\"convertToInteractive('df-a1ae4662-4fb1-40b7-a780-47aa13f76a49')\"\n",
              "              title=\"Convert this dataframe to an interactive table.\"\n",
              "              style=\"display:none;\">\n",
              "        \n",
              "  <svg xmlns=\"http://www.w3.org/2000/svg\" height=\"24px\"viewBox=\"0 0 24 24\"\n",
              "       width=\"24px\">\n",
              "    <path d=\"M0 0h24v24H0V0z\" fill=\"none\"/>\n",
              "    <path d=\"M18.56 5.44l.94 2.06.94-2.06 2.06-.94-2.06-.94-.94-2.06-.94 2.06-2.06.94zm-11 1L8.5 8.5l.94-2.06 2.06-.94-2.06-.94L8.5 2.5l-.94 2.06-2.06.94zm10 10l.94 2.06.94-2.06 2.06-.94-2.06-.94-.94-2.06-.94 2.06-2.06.94z\"/><path d=\"M17.41 7.96l-1.37-1.37c-.4-.4-.92-.59-1.43-.59-.52 0-1.04.2-1.43.59L10.3 9.45l-7.72 7.72c-.78.78-.78 2.05 0 2.83L4 21.41c.39.39.9.59 1.41.59.51 0 1.02-.2 1.41-.59l7.78-7.78 2.81-2.81c.8-.78.8-2.07 0-2.86zM5.41 20L4 18.59l7.72-7.72 1.47 1.35L5.41 20z\"/>\n",
              "  </svg>\n",
              "      </button>\n",
              "      \n",
              "  <style>\n",
              "    .colab-df-container {\n",
              "      display:flex;\n",
              "      flex-wrap:wrap;\n",
              "      gap: 12px;\n",
              "    }\n",
              "\n",
              "    .colab-df-convert {\n",
              "      background-color: #E8F0FE;\n",
              "      border: none;\n",
              "      border-radius: 50%;\n",
              "      cursor: pointer;\n",
              "      display: none;\n",
              "      fill: #1967D2;\n",
              "      height: 32px;\n",
              "      padding: 0 0 0 0;\n",
              "      width: 32px;\n",
              "    }\n",
              "\n",
              "    .colab-df-convert:hover {\n",
              "      background-color: #E2EBFA;\n",
              "      box-shadow: 0px 1px 2px rgba(60, 64, 67, 0.3), 0px 1px 3px 1px rgba(60, 64, 67, 0.15);\n",
              "      fill: #174EA6;\n",
              "    }\n",
              "\n",
              "    [theme=dark] .colab-df-convert {\n",
              "      background-color: #3B4455;\n",
              "      fill: #D2E3FC;\n",
              "    }\n",
              "\n",
              "    [theme=dark] .colab-df-convert:hover {\n",
              "      background-color: #434B5C;\n",
              "      box-shadow: 0px 1px 3px 1px rgba(0, 0, 0, 0.15);\n",
              "      filter: drop-shadow(0px 1px 2px rgba(0, 0, 0, 0.3));\n",
              "      fill: #FFFFFF;\n",
              "    }\n",
              "  </style>\n",
              "\n",
              "      <script>\n",
              "        const buttonEl =\n",
              "          document.querySelector('#df-a1ae4662-4fb1-40b7-a780-47aa13f76a49 button.colab-df-convert');\n",
              "        buttonEl.style.display =\n",
              "          google.colab.kernel.accessAllowed ? 'block' : 'none';\n",
              "\n",
              "        async function convertToInteractive(key) {\n",
              "          const element = document.querySelector('#df-a1ae4662-4fb1-40b7-a780-47aa13f76a49');\n",
              "          const dataTable =\n",
              "            await google.colab.kernel.invokeFunction('convertToInteractive',\n",
              "                                                     [key], {});\n",
              "          if (!dataTable) return;\n",
              "\n",
              "          const docLinkHtml = 'Like what you see? Visit the ' +\n",
              "            '<a target=\"_blank\" href=https://colab.research.google.com/notebooks/data_table.ipynb>data table notebook</a>'\n",
              "            + ' to learn more about interactive tables.';\n",
              "          element.innerHTML = '';\n",
              "          dataTable['output_type'] = 'display_data';\n",
              "          await google.colab.output.renderOutput(dataTable, element);\n",
              "          const docLink = document.createElement('div');\n",
              "          docLink.innerHTML = docLinkHtml;\n",
              "          element.appendChild(docLink);\n",
              "        }\n",
              "      </script>\n",
              "    </div>\n",
              "  </div>\n",
              "  "
            ]
          },
          "metadata": {},
          "execution_count": 10
        }
      ],
      "source": [
        "train.describe()"
      ]
    },
    {
      "cell_type": "code",
      "execution_count": 45,
      "id": "32bd3c67-cbd2-42e0-9d50-4b035c6fc864",
      "metadata": {
        "colab": {
          "base_uri": "https://localhost:8080/",
          "height": 499
        },
        "id": "32bd3c67-cbd2-42e0-9d50-4b035c6fc864",
        "outputId": "82c81f30-76db-4f69-a3db-b32041c60abc"
      },
      "outputs": [
        {
          "output_type": "display_data",
          "data": {
            "text/plain": [
              "<Figure size 720x576 with 12 Axes>"
            ],
            "image/png": "[encoded data removed]"
          },
          "metadata": {
            "needs_background": "light"
          }
        }
      ],
      "source": [
        "# ver histograma das variáveis numéricas\n",
        "train.hist(figsize=(10,8));"
      ]
    },
    {
      "cell_type": "markdown",
      "id": "959da7cf-6e21-40d6-87b5-30e9bc9f25c4",
      "metadata": {
        "id": "959da7cf-6e21-40d6-87b5-30e9bc9f25c4"
      },
      "source": [
        "Q4. Quais grupos de pessoas tinham mais chances de sobrevivência??\n",
        "\n"
      ]
    },
    {
      "cell_type": "code",
      "execution_count": 12,
      "id": "ad1f993a-c1a0-4940-9850-9f125f37a36f",
      "metadata": {
        "colab": {
          "base_uri": "https://localhost:8080/",
          "height": 143
        },
        "id": "ad1f993a-c1a0-4940-9850-9f125f37a36f",
        "outputId": "e1930974-fef3-4e29-a52f-66e5aefd3b79"
      },
      "outputs": [
        {
          "output_type": "execute_result",
          "data": {
            "text/plain": [
              "        Survived\n",
              "Sex             \n",
              "female  0.742038\n",
              "male    0.188908"
            ],
            "text/html": [
              "\n",
              "  <div id=\"df-efb157b5-5c0e-4588-bf5b-de3121e6c879\">\n",
              "    <div class=\"colab-df-container\">\n",
              "      <div>\n",
              "<style scoped>\n",
              "    .dataframe tbody tr th:only-of-type {\n",
              "        vertical-align: middle;\n",
              "    }\n",
              "\n",
              "    .dataframe tbody tr th {\n",
              "        vertical-align: top;\n",
              "    }\n",
              "\n",
              "    .dataframe thead th {\n",
              "        text-align: right;\n",
              "    }\n",
              "</style>\n",
              "<table border=\"1\" class=\"dataframe\">\n",
              "  <thead>\n",
              "    <tr style=\"text-align: right;\">\n",
              "      <th></th>\n",
              "      <th>Survived</th>\n",
              "    </tr>\n",
              "    <tr>\n",
              "      <th>Sex</th>\n",
              "      <th></th>\n",
              "    </tr>\n",
              "  </thead>\n",
              "  <tbody>\n",
              "    <tr>\n",
              "      <th>female</th>\n",
              "      <td>0.742038</td>\n",
              "    </tr>\n",
              "    <tr>\n",
              "      <th>male</th>\n",
              "      <td>0.188908</td>\n",
              "    </tr>\n",
              "  </tbody>\n",
              "</table>\n",
              "</div>\n",
              "      <button class=\"colab-df-convert\" onclick=\"convertToInteractive('df-efb157b5-5c0e-4588-bf5b-de3121e6c879')\"\n",
              "              title=\"Convert this dataframe to an interactive table.\"\n",
              "              style=\"display:none;\">\n",
              "        \n",
              "  <svg xmlns=\"http://www.w3.org/2000/svg\" height=\"24px\"viewBox=\"0 0 24 24\"\n",
              "       width=\"24px\">\n",
              "    <path d=\"M0 0h24v24H0V0z\" fill=\"none\"/>\n",
              "    <path d=\"M18.56 5.44l.94 2.06.94-2.06 2.06-.94-2.06-.94-.94-2.06-.94 2.06-2.06.94zm-11 1L8.5 8.5l.94-2.06 2.06-.94-2.06-.94L8.5 2.5l-.94 2.06-2.06.94zm10 10l.94 2.06.94-2.06 2.06-.94-2.06-.94-.94-2.06-.94 2.06-2.06.94z\"/><path d=\"M17.41 7.96l-1.37-1.37c-.4-.4-.92-.59-1.43-.59-.52 0-1.04.2-1.43.59L10.3 9.45l-7.72 7.72c-.78.78-.78 2.05 0 2.83L4 21.41c.39.39.9.59 1.41.59.51 0 1.02-.2 1.41-.59l7.78-7.78 2.81-2.81c.8-.78.8-2.07 0-2.86zM5.41 20L4 18.59l7.72-7.72 1.47 1.35L5.41 20z\"/>\n",
              "  </svg>\n",
              "      </button>\n",
              "      \n",
              "  <style>\n",
              "    .colab-df-container {\n",
              "      display:flex;\n",
              "      flex-wrap:wrap;\n",
              "      gap: 12px;\n",
              "    }\n",
              "\n",
              "    .colab-df-convert {\n",
              "      background-color: #E8F0FE;\n",
              "      border: none;\n",
              "      border-radius: 50%;\n",
              "      cursor: pointer;\n",
              "      display: none;\n",
              "      fill: #1967D2;\n",
              "      height: 32px;\n",
              "      padding: 0 0 0 0;\n",
              "      width: 32px;\n",
              "    }\n",
              "\n",
              "    .colab-df-convert:hover {\n",
              "      background-color: #E2EBFA;\n",
              "      box-shadow: 0px 1px 2px rgba(60, 64, 67, 0.3), 0px 1px 3px 1px rgba(60, 64, 67, 0.15);\n",
              "      fill: #174EA6;\n",
              "    }\n",
              "\n",
              "    [theme=dark] .colab-df-convert {\n",
              "      background-color: #3B4455;\n",
              "      fill: #D2E3FC;\n",
              "    }\n",
              "\n",
              "    [theme=dark] .colab-df-convert:hover {\n",
              "      background-color: #434B5C;\n",
              "      box-shadow: 0px 1px 3px 1px rgba(0, 0, 0, 0.15);\n",
              "      filter: drop-shadow(0px 1px 2px rgba(0, 0, 0, 0.3));\n",
              "      fill: #FFFFFF;\n",
              "    }\n",
              "  </style>\n",
              "\n",
              "      <script>\n",
              "        const buttonEl =\n",
              "          document.querySelector('#df-efb157b5-5c0e-4588-bf5b-de3121e6c879 button.colab-df-convert');\n",
              "        buttonEl.style.display =\n",
              "          google.colab.kernel.accessAllowed ? 'block' : 'none';\n",
              "\n",
              "        async function convertToInteractive(key) {\n",
              "          const element = document.querySelector('#df-efb157b5-5c0e-4588-bf5b-de3121e6c879');\n",
              "          const dataTable =\n",
              "            await google.colab.kernel.invokeFunction('convertToInteractive',\n",
              "                                                     [key], {});\n",
              "          if (!dataTable) return;\n",
              "\n",
              "          const docLinkHtml = 'Like what you see? Visit the ' +\n",
              "            '<a target=\"_blank\" href=https://colab.research.google.com/notebooks/data_table.ipynb>data table notebook</a>'\n",
              "            + ' to learn more about interactive tables.';\n",
              "          element.innerHTML = '';\n",
              "          dataTable['output_type'] = 'display_data';\n",
              "          await google.colab.output.renderOutput(dataTable, element);\n",
              "          const docLink = document.createElement('div');\n",
              "          docLink.innerHTML = docLinkHtml;\n",
              "          element.appendChild(docLink);\n",
              "        }\n",
              "      </script>\n",
              "    </div>\n",
              "  </div>\n",
              "  "
            ]
          },
          "metadata": {},
          "execution_count": 12
        }
      ],
      "source": [
        "# Analisar a probabilidade de sobrevivência pelo Sexo\n",
        "train[['Sex', 'Survived']].groupby(['Sex']).mean()"
      ]
    },
    {
      "cell_type": "code",
      "execution_count": 13,
      "id": "4582f5b7-a87c-43f3-99e8-f1fbedacd6d1",
      "metadata": {
        "colab": {
          "base_uri": "https://localhost:8080/",
          "height": 279
        },
        "id": "4582f5b7-a87c-43f3-99e8-f1fbedacd6d1",
        "outputId": "09a0ed05-457f-44ee-c1ba-62a9233fce1b"
      },
      "outputs": [
        {
          "output_type": "display_data",
          "data": {
            "text/plain": [
              "<Figure size 864x288 with 3 Axes>"
            ],
            "image/png": "[encoded data removed]"
          },
          "metadata": {
            "needs_background": "light"
          }
        }
      ],
      "source": [
        "# Plotar os gráficos para Survived vs. Sex, Pclass e Embarked\n",
        "fig, (axis1, axis2, axis3) = plt.subplots(1,3, figsize=(12,4))\n",
        "\n",
        "sns.barplot(x='Sex', y='Survived', data=train, ax=axis1)\n",
        "sns.barplot(x='Pclass', y='Survived', data=train, ax=axis2)\n",
        "sns.barplot(x='Embarked', y='Survived', data=train, ax=axis3);"
      ]
    },
    {
      "cell_type": "code",
      "execution_count": 14,
      "id": "0b274907-a53c-4a63-9afb-efd91f89d70d",
      "metadata": {
        "colab": {
          "base_uri": "https://localhost:8080/",
          "height": 332
        },
        "id": "0b274907-a53c-4a63-9afb-efd91f89d70d",
        "outputId": "000afaef-4316-4c37-80f3-ac103d54157b"
      },
      "outputs": [
        {
          "output_type": "stream",
          "name": "stderr",
          "text": [
            "/usr/local/lib/python3.8/dist-packages/seaborn/distributions.py:2619: FutureWarning: `distplot` is a deprecated function and will be removed in a future version. Please adapt your code to use either `displot` (a figure-level function with similar flexibility) or `histplot` (an axes-level function for histograms).\n",
            "  warnings.warn(msg, FutureWarning)\n",
            "/usr/local/lib/python3.8/dist-packages/seaborn/distributions.py:2619: FutureWarning: `distplot` is a deprecated function and will be removed in a future version. Please adapt your code to use either `displot` (a figure-level function with similar flexibility) or `histplot` (an axes-level function for histograms).\n",
            "  warnings.warn(msg, FutureWarning)\n"
          ]
        },
        {
          "output_type": "execute_result",
          "data": {
            "text/plain": [
              "<seaborn.axisgrid.FacetGrid at 0x7f0de6e5ad30>"
            ]
          },
          "metadata": {},
          "execution_count": 14
        },
        {
          "output_type": "display_data",
          "data": {
            "text/plain": [
              "<Figure size 432x216 with 2 Axes>"
            ],
            "image/png": "[encoded data removed]"
          },
          "metadata": {
            "needs_background": "light"
          }
        }
      ],
      "source": [
        "# ver influência da idade na probabilidade de sobrevivência\n",
        "age_survived = sns.FacetGrid(train, col='Survived')\n",
        "age_survived.map(sns.distplot, 'Age')"
      ]
    },
    {
      "cell_type": "code",
      "execution_count": 15,
      "id": "4931acce-04af-4bb6-bb0d-8480a86c0a94",
      "metadata": {
        "colab": {
          "base_uri": "https://localhost:8080/",
          "height": 609
        },
        "id": "4931acce-04af-4bb6-bb0d-8480a86c0a94",
        "outputId": "8faa7b82-e861-4e83-edb1-044c3808250e"
      },
      "outputs": [
        {
          "output_type": "display_data",
          "data": {
            "text/plain": [
              "<Figure size 1080x720 with 16 Axes>"
            ],
            "image/png": "[encoded data removed]"
          },
          "metadata": {
            "needs_background": "light"
          }
        }
      ],
      "source": [
        "# plotar uma scatter matrix\n",
        "columns=['Parch', 'SibSp', 'Age', 'Pclass']\n",
        "pd.plotting.scatter_matrix(train[columns], figsize=(15, 10));"
      ]
    },
    {
      "cell_type": "code",
      "execution_count": 16,
      "id": "c088f56e-7a37-4ac4-b9f6-9962143d4b56",
      "metadata": {
        "colab": {
          "base_uri": "https://localhost:8080/",
          "height": 320
        },
        "id": "c088f56e-7a37-4ac4-b9f6-9962143d4b56",
        "outputId": "c1505cd7-0c8a-4f2e-c848-6456672384b0"
      },
      "outputs": [
        {
          "output_type": "display_data",
          "data": {
            "text/plain": [
              "<Figure size 432x288 with 2 Axes>"
            ],
            "image/png": "[encoded data removed]"
          },
          "metadata": {
            "needs_background": "light"
          }
        }
      ],
      "source": [
        "# plotar o heatmap para as variáveis numéricas\n",
        "sns.heatmap(train.corr(), cmap='coolwarm', fmt='.2f', linewidths=0.1,\n",
        "            vmax=1.0, square=True, linecolor='white', annot=True);"
      ]
    },
    {
      "cell_type": "markdown",
      "id": "217ed241-e275-42c7-b92e-11cddf505068",
      "metadata": {
        "id": "217ed241-e275-42c7-b92e-11cddf505068"
      },
      "source": [
        "Pouca gente sabe que o método df.describe() pode ser usado também para ver algo sobre a estatística descritiva em colunas que não são números. Para isso, é só passar o argumento include=['O'].\n",
        "\n",
        "ATENÇÃO, é a letra 'O', e não o número 0!"
      ]
    },
    {
      "cell_type": "code",
      "execution_count": 17,
      "id": "fad57628-7a29-455f-8f8a-ebd0c288af1c",
      "metadata": {
        "colab": {
          "base_uri": "https://localhost:8080/",
          "height": 175
        },
        "id": "fad57628-7a29-455f-8f8a-ebd0c288af1c",
        "outputId": "a2d50472-193c-4f47-d7b4-18321b528664"
      },
      "outputs": [
        {
          "output_type": "execute_result",
          "data": {
            "text/plain": [
              "                           Name   Sex  Ticket    Cabin Embarked\n",
              "count                       891   891     891      204      889\n",
              "unique                      891     2     681      147        3\n",
              "top     Braund, Mr. Owen Harris  male  347082  B96 B98        S\n",
              "freq                          1   577       7        4      644"
            ],
            "text/html": [
              "\n",
              "  <div id=\"df-fa76ed5a-ab86-4bfe-9272-354a90798472\">\n",
              "    <div class=\"colab-df-container\">\n",
              "      <div>\n",
              "<style scoped>\n",
              "    .dataframe tbody tr th:only-of-type {\n",
              "        vertical-align: middle;\n",
              "    }\n",
              "\n",
              "    .dataframe tbody tr th {\n",
              "        vertical-align: top;\n",
              "    }\n",
              "\n",
              "    .dataframe thead th {\n",
              "        text-align: right;\n",
              "    }\n",
              "</style>\n",
              "<table border=\"1\" class=\"dataframe\">\n",
              "  <thead>\n",
              "    <tr style=\"text-align: right;\">\n",
              "      <th></th>\n",
              "      <th>Name</th>\n",
              "      <th>Sex</th>\n",
              "      <th>Ticket</th>\n",
              "      <th>Cabin</th>\n",
              "      <th>Embarked</th>\n",
              "    </tr>\n",
              "  </thead>\n",
              "  <tbody>\n",
              "    <tr>\n",
              "      <th>count</th>\n",
              "      <td>891</td>\n",
              "      <td>891</td>\n",
              "      <td>891</td>\n",
              "      <td>204</td>\n",
              "      <td>889</td>\n",
              "    </tr>\n",
              "    <tr>\n",
              "      <th>unique</th>\n",
              "      <td>891</td>\n",
              "      <td>2</td>\n",
              "      <td>681</td>\n",
              "      <td>147</td>\n",
              "      <td>3</td>\n",
              "    </tr>\n",
              "    <tr>\n",
              "      <th>top</th>\n",
              "      <td>Braund, Mr. Owen Harris</td>\n",
              "      <td>male</td>\n",
              "      <td>347082</td>\n",
              "      <td>B96 B98</td>\n",
              "      <td>S</td>\n",
              "    </tr>\n",
              "    <tr>\n",
              "      <th>freq</th>\n",
              "      <td>1</td>\n",
              "      <td>577</td>\n",
              "      <td>7</td>\n",
              "      <td>4</td>\n",
              "      <td>644</td>\n",
              "    </tr>\n",
              "  </tbody>\n",
              "</table>\n",
              "</div>\n",
              "      <button class=\"colab-df-convert\" onclick=\"convertToInteractive('df-fa76ed5a-ab86-4bfe-9272-354a90798472')\"\n",
              "              title=\"Convert this dataframe to an interactive table.\"\n",
              "              style=\"display:none;\">\n",
              "        \n",
              "  <svg xmlns=\"http://www.w3.org/2000/svg\" height=\"24px\"viewBox=\"0 0 24 24\"\n",
              "       width=\"24px\">\n",
              "    <path d=\"M0 0h24v24H0V0z\" fill=\"none\"/>\n",
              "    <path d=\"M18.56 5.44l.94 2.06.94-2.06 2.06-.94-2.06-.94-.94-2.06-.94 2.06-2.06.94zm-11 1L8.5 8.5l.94-2.06 2.06-.94-2.06-.94L8.5 2.5l-.94 2.06-2.06.94zm10 10l.94 2.06.94-2.06 2.06-.94-2.06-.94-.94-2.06-.94 2.06-2.06.94z\"/><path d=\"M17.41 7.96l-1.37-1.37c-.4-.4-.92-.59-1.43-.59-.52 0-1.04.2-1.43.59L10.3 9.45l-7.72 7.72c-.78.78-.78 2.05 0 2.83L4 21.41c.39.39.9.59 1.41.59.51 0 1.02-.2 1.41-.59l7.78-7.78 2.81-2.81c.8-.78.8-2.07 0-2.86zM5.41 20L4 18.59l7.72-7.72 1.47 1.35L5.41 20z\"/>\n",
              "  </svg>\n",
              "      </button>\n",
              "      \n",
              "  <style>\n",
              "    .colab-df-container {\n",
              "      display:flex;\n",
              "      flex-wrap:wrap;\n",
              "      gap: 12px;\n",
              "    }\n",
              "\n",
              "    .colab-df-convert {\n",
              "      background-color: #E8F0FE;\n",
              "      border: none;\n",
              "      border-radius: 50%;\n",
              "      cursor: pointer;\n",
              "      display: none;\n",
              "      fill: #1967D2;\n",
              "      height: 32px;\n",
              "      padding: 0 0 0 0;\n",
              "      width: 32px;\n",
              "    }\n",
              "\n",
              "    .colab-df-convert:hover {\n",
              "      background-color: #E2EBFA;\n",
              "      box-shadow: 0px 1px 2px rgba(60, 64, 67, 0.3), 0px 1px 3px 1px rgba(60, 64, 67, 0.15);\n",
              "      fill: #174EA6;\n",
              "    }\n",
              "\n",
              "    [theme=dark] .colab-df-convert {\n",
              "      background-color: #3B4455;\n",
              "      fill: #D2E3FC;\n",
              "    }\n",
              "\n",
              "    [theme=dark] .colab-df-convert:hover {\n",
              "      background-color: #434B5C;\n",
              "      box-shadow: 0px 1px 3px 1px rgba(0, 0, 0, 0.15);\n",
              "      filter: drop-shadow(0px 1px 2px rgba(0, 0, 0, 0.3));\n",
              "      fill: #FFFFFF;\n",
              "    }\n",
              "  </style>\n",
              "\n",
              "      <script>\n",
              "        const buttonEl =\n",
              "          document.querySelector('#df-fa76ed5a-ab86-4bfe-9272-354a90798472 button.colab-df-convert');\n",
              "        buttonEl.style.display =\n",
              "          google.colab.kernel.accessAllowed ? 'block' : 'none';\n",
              "\n",
              "        async function convertToInteractive(key) {\n",
              "          const element = document.querySelector('#df-fa76ed5a-ab86-4bfe-9272-354a90798472');\n",
              "          const dataTable =\n",
              "            await google.colab.kernel.invokeFunction('convertToInteractive',\n",
              "                                                     [key], {});\n",
              "          if (!dataTable) return;\n",
              "\n",
              "          const docLinkHtml = 'Like what you see? Visit the ' +\n",
              "            '<a target=\"_blank\" href=https://colab.research.google.com/notebooks/data_table.ipynb>data table notebook</a>'\n",
              "            + ' to learn more about interactive tables.';\n",
              "          element.innerHTML = '';\n",
              "          dataTable['output_type'] = 'display_data';\n",
              "          await google.colab.output.renderOutput(dataTable, element);\n",
              "          const docLink = document.createElement('div');\n",
              "          docLink.innerHTML = docLinkHtml;\n",
              "          element.appendChild(docLink);\n",
              "        }\n",
              "      </script>\n",
              "    </div>\n",
              "  </div>\n",
              "  "
            ]
          },
          "metadata": {},
          "execution_count": 17
        }
      ],
      "source": [
        "\n",
        "train.describe(include=['O'])"
      ]
    },
    {
      "cell_type": "markdown",
      "id": "be5c0d4b-717e-48d7-a2e4-ec4b1436343e",
      "metadata": {
        "id": "be5c0d4b-717e-48d7-a2e4-ec4b1436343e"
      },
      "source": [
        "Olhando esses dados a gente observa que:\n",
        "\n",
        "Os valores para Name são únicos, um para cada pessoa;\n",
        "Não há missing values para Name e Sex;\n",
        "Existem apenas os sexos Masculino e Feminino, sendo que o com maior frequência é o Masculino (577/891 = 65%);\n",
        "O Porto no qual embarcaram mais passageiros é o de S = Southampton.\n",
        "4 Preparação dos Dados\n",
        "Até o presente momento, tudo o que fizemos foi importar os dados para estruturas DataFrame, formular hipóteses, iniciar uma análise exploratória dos dados e visualizar graficos e correlações entre aquelas variáveis que julgamos pertinente.\n",
        "\n",
        "Um projeto de data science não é amarrado e rigoroso, onde a gente segue um passo-a-passo linear, mas sim um processo iterativo, onde a gente vai e volta sempre que for necessário.\n",
        "\n",
        "Quando a gente pega o notebook de alguém, fica sempre a impressão que está bem estruturado e que foi \"direto ao ponto*. No entanto, antes de trazer uma versão bonitinha, eu vou e volto ao começo inúmeras vezes!\n",
        "\n",
        "Lembre-se disso: uma versão final é uma versão que foi reescrita várias vezes. Vá e volte ao começo sempre que precisar para adicionar informações novas que fizeram sentido :)\n",
        "\n",
        "Juntando os datasets de treino e teste\n",
        "Uma dica para quando você vai preparar os dados para um modelo de Machine Learning é juntar os datasets de treino e teste em um único, e separar novamente no final.\n",
        "\n",
        "Muitas vezes a gente vai fazer um feature engineering, criar variáveis dummy ou codificar as variáveis. Daí, nosso modelo vai ser treinado em cima dessa arquitetura, e os dados de teste vão ter que seguir essa mesma estrutura.\n",
        "\n",
        "Por isso, é muito mais fácil fazer todas as etapas para um único DataFrame e dividir novamente entre treino e teste."
      ]
    },
    {
      "cell_type": "code",
      "execution_count": 18,
      "id": "d7d0cb34-796d-4566-bd22-a625856723c8",
      "metadata": {
        "colab": {
          "base_uri": "https://localhost:8080/",
          "height": 0
        },
        "id": "d7d0cb34-796d-4566-bd22-a625856723c8",
        "outputId": "801faf22-9c55-4c9d-d71b-f5af44389df9"
      },
      "outputs": [
        {
          "output_type": "stream",
          "name": "stdout",
          "text": [
            "df_merged.shape: (1309 x 11)\n"
          ]
        }
      ],
      "source": [
        "# salvar os índices dos datasets para recuperação posterior\n",
        "train_idx = train.shape[0]\n",
        "test_idx = test.shape[0]\n",
        "\n",
        "# salvar PassengerId para submissao ao Kaggle\n",
        "passengerId = test['PassengerId']\n",
        "\n",
        "# extrair coluna 'Survived' e excluir ela do dataset treino\n",
        "target = train.Survived.copy()\n",
        "train.drop(['Survived'], axis=1, inplace=True)\n",
        "\n",
        "# concatenar treino e teste em um único DataFrame\n",
        "df_merged = pd.concat(objs=[train, test], axis=0).reset_index(drop=True)\n",
        "\n",
        "print(\"df_merged.shape: ({} x {})\".format(df_merged.shape[0], df_merged.shape[1]))\n"
      ]
    },
    {
      "cell_type": "markdown",
      "id": "f4396495-992a-4107-8c20-20343658d958",
      "metadata": {
        "id": "f4396495-992a-4107-8c20-20343658d958"
      },
      "source": [
        "Selecionar as features\n",
        "Como qualquer conjunto de dados do mundo real, você vai se deparar sempre com dados que não servem para nada e outros que não tem peso ou significância nenhuma no seu modelo.\n",
        "\n",
        "Muitas vezes nosso julgamento pode ser equivocado, mas infelizmente é papel seu, como cientista de dados, escolher quais features serão usadas para o modelo de Machine Learning.\n",
        "\n",
        "No nosso caso, vamos desconsiderar as variáveis ['PassengerId', 'Name', 'Ticket', 'Cabin'], pois aparentemente não parecem relevantes."
      ]
    },
    {
      "cell_type": "code",
      "execution_count": 19,
      "id": "ba186c06-464a-49f5-bc50-e4c3e7a51529",
      "metadata": {
        "id": "ba186c06-464a-49f5-bc50-e4c3e7a51529"
      },
      "outputs": [],
      "source": [
        "df_merged.drop(['PassengerId', 'Name', 'Ticket', 'Cabin'], axis=1, inplace=True)"
      ]
    },
    {
      "cell_type": "markdown",
      "id": "44905a1f-0ba6-46c1-9cdc-f39840160082",
      "metadata": {
        "id": "44905a1f-0ba6-46c1-9cdc-f39840160082"
      },
      "source": [
        "Assim, ficamos com as seguintes variáveis a serem tratadas e preparadas: ['Pclass', 'Sex', 'Age', 'SibSp', 'Parch', 'Fare', 'Embarked'].\n",
        "\n",
        "Valores faltante\n",
        "Vamos dar uma olhada nos valores que faltam em cada columna e tratar esses campos vazios.\n",
        "\n",
        "Normalmente, há duas abordagens mais utilizadas quando a gente encontra missing values:\n",
        "\n",
        "Preencher esses valores arbitrariamente (média, mediana, valor mais frequente); e\n",
        "Excluir a linha inteira.\n",
        "Cada caso é um caso e novamente você, cientista de dados, é quem vai tomar a decisão sobre qual passo seguir.\n",
        "\n",
        "Na maioria das vezes não é desejável jogar informação de uma linha inteira só por causa de um campo faltando. Sempre que possível é melhor você preencher o campo, e é isso que vamos fazer."
      ]
    },
    {
      "cell_type": "code",
      "execution_count": 20,
      "id": "5e387008-3cb4-4f49-91b9-9252ddd3f4e3",
      "metadata": {
        "colab": {
          "base_uri": "https://localhost:8080/",
          "height": 0
        },
        "id": "5e387008-3cb4-4f49-91b9-9252ddd3f4e3",
        "outputId": "02e9141d-c7f4-464e-94b9-2de94668a76c"
      },
      "outputs": [
        {
          "output_type": "execute_result",
          "data": {
            "text/plain": [
              "Pclass        0\n",
              "Sex           0\n",
              "Age         263\n",
              "SibSp         0\n",
              "Parch         0\n",
              "Fare          1\n",
              "Embarked      2\n",
              "dtype: int64"
            ]
          },
          "metadata": {},
          "execution_count": 20
        }
      ],
      "source": [
        "# completar ou apagar valores faltantes nos datasets de treino e teste\n",
        "df_merged.isnull().sum()\n"
      ]
    },
    {
      "cell_type": "code",
      "execution_count": 21,
      "id": "b21fb438-5e2e-4162-ba5c-cb272093102e",
      "metadata": {
        "id": "b21fb438-5e2e-4162-ba5c-cb272093102e"
      },
      "outputs": [],
      "source": [
        "# age\n",
        "age_median = df_merged['Age'].median()\n",
        "df_merged['Age'].fillna(age_median, inplace=True)\n",
        "\n",
        "# fare\n",
        "fare_median = df_merged['Fare'].median()\n",
        "df_merged['Fare'].fillna(fare_median, inplace=True)\n",
        "\n",
        "# embarked\n",
        "embarked_top = df_merged['Embarked'].value_counts()[0]\n",
        "df_merged['Embarked'].fillna(embarked_top, inplace=True)\n"
      ]
    },
    {
      "cell_type": "markdown",
      "id": "b2bbc75b-0a00-462a-9068-b3f21cae7018",
      "metadata": {
        "id": "b2bbc75b-0a00-462a-9068-b3f21cae7018"
      },
      "source": [
        "Preparar as variáveis pro modelo\n",
        "O modelo matemático exige que trabalhemos com variáveis numéricas, ou seja, temos transformar os dados de entrada que estão em formato categoria para números.\n",
        "\n",
        "Como você vê abaixo, eu convertir os valores possíveis de Sexpara {'male': 0, 'female': 1}. Já em relação à variável Embarked, apliquei o conceito de variáveis dummies.\n",
        "\n",
        "As variáveis dummies (dummy variables) assumem aqui apenas valores 0 e 1, criando uma nova coluna para cada valor possível da variável categórica. Para ficar mais fácil entender, veja como fica o DataFrame após todos esses tratamentos:"
      ]
    },
    {
      "cell_type": "code",
      "execution_count": 22,
      "id": "4da57da9-bee6-4b27-87f4-31a26b8d733f",
      "metadata": {
        "colab": {
          "base_uri": "https://localhost:8080/",
          "height": 206
        },
        "id": "4da57da9-bee6-4b27-87f4-31a26b8d733f",
        "outputId": "6e2dc2ed-742b-4bfe-af1d-b5fc1aafecc4"
      },
      "outputs": [
        {
          "output_type": "display_data",
          "data": {
            "text/plain": [
              "   Pclass  Sex   Age  SibSp  Parch     Fare  Embarked_914  Embarked_C  \\\n",
              "0       3    0  22.0      1      0   7.2500             0           0   \n",
              "1       1    1  38.0      1      0  71.2833             0           1   \n",
              "2       3    1  26.0      0      0   7.9250             0           0   \n",
              "3       1    1  35.0      1      0  53.1000             0           0   \n",
              "4       3    0  35.0      0      0   8.0500             0           0   \n",
              "\n",
              "   Embarked_Q  Embarked_S  \n",
              "0           0           1  \n",
              "1           0           0  \n",
              "2           0           1  \n",
              "3           0           1  \n",
              "4           0           1  "
            ],
            "text/html": [
              "\n",
              "  <div id=\"df-7baaa9ae-3b50-4d6b-b8b6-6091477056e4\">\n",
              "    <div class=\"colab-df-container\">\n",
              "      <div>\n",
              "<style scoped>\n",
              "    .dataframe tbody tr th:only-of-type {\n",
              "        vertical-align: middle;\n",
              "    }\n",
              "\n",
              "    .dataframe tbody tr th {\n",
              "        vertical-align: top;\n",
              "    }\n",
              "\n",
              "    .dataframe thead th {\n",
              "        text-align: right;\n",
              "    }\n",
              "</style>\n",
              "<table border=\"1\" class=\"dataframe\">\n",
              "  <thead>\n",
              "    <tr style=\"text-align: right;\">\n",
              "      <th></th>\n",
              "      <th>Pclass</th>\n",
              "      <th>Sex</th>\n",
              "      <th>Age</th>\n",
              "      <th>SibSp</th>\n",
              "      <th>Parch</th>\n",
              "      <th>Fare</th>\n",
              "      <th>Embarked_914</th>\n",
              "      <th>Embarked_C</th>\n",
              "      <th>Embarked_Q</th>\n",
              "      <th>Embarked_S</th>\n",
              "    </tr>\n",
              "  </thead>\n",
              "  <tbody>\n",
              "    <tr>\n",
              "      <th>0</th>\n",
              "      <td>3</td>\n",
              "      <td>0</td>\n",
              "      <td>22.0</td>\n",
              "      <td>1</td>\n",
              "      <td>0</td>\n",
              "      <td>7.2500</td>\n",
              "      <td>0</td>\n",
              "      <td>0</td>\n",
              "      <td>0</td>\n",
              "      <td>1</td>\n",
              "    </tr>\n",
              "    <tr>\n",
              "      <th>1</th>\n",
              "      <td>1</td>\n",
              "      <td>1</td>\n",
              "      <td>38.0</td>\n",
              "      <td>1</td>\n",
              "      <td>0</td>\n",
              "      <td>71.2833</td>\n",
              "      <td>0</td>\n",
              "      <td>1</td>\n",
              "      <td>0</td>\n",
              "      <td>0</td>\n",
              "    </tr>\n",
              "    <tr>\n",
              "      <th>2</th>\n",
              "      <td>3</td>\n",
              "      <td>1</td>\n",
              "      <td>26.0</td>\n",
              "      <td>0</td>\n",
              "      <td>0</td>\n",
              "      <td>7.9250</td>\n",
              "      <td>0</td>\n",
              "      <td>0</td>\n",
              "      <td>0</td>\n",
              "      <td>1</td>\n",
              "    </tr>\n",
              "    <tr>\n",
              "      <th>3</th>\n",
              "      <td>1</td>\n",
              "      <td>1</td>\n",
              "      <td>35.0</td>\n",
              "      <td>1</td>\n",
              "      <td>0</td>\n",
              "      <td>53.1000</td>\n",
              "      <td>0</td>\n",
              "      <td>0</td>\n",
              "      <td>0</td>\n",
              "      <td>1</td>\n",
              "    </tr>\n",
              "    <tr>\n",
              "      <th>4</th>\n",
              "      <td>3</td>\n",
              "      <td>0</td>\n",
              "      <td>35.0</td>\n",
              "      <td>0</td>\n",
              "      <td>0</td>\n",
              "      <td>8.0500</td>\n",
              "      <td>0</td>\n",
              "      <td>0</td>\n",
              "      <td>0</td>\n",
              "      <td>1</td>\n",
              "    </tr>\n",
              "  </tbody>\n",
              "</table>\n",
              "</div>\n",
              "      <button class=\"colab-df-convert\" onclick=\"convertToInteractive('df-7baaa9ae-3b50-4d6b-b8b6-6091477056e4')\"\n",
              "              title=\"Convert this dataframe to an interactive table.\"\n",
              "              style=\"display:none;\">\n",
              "        \n",
              "  <svg xmlns=\"http://www.w3.org/2000/svg\" height=\"24px\"viewBox=\"0 0 24 24\"\n",
              "       width=\"24px\">\n",
              "    <path d=\"M0 0h24v24H0V0z\" fill=\"none\"/>\n",
              "    <path d=\"M18.56 5.44l.94 2.06.94-2.06 2.06-.94-2.06-.94-.94-2.06-.94 2.06-2.06.94zm-11 1L8.5 8.5l.94-2.06 2.06-.94-2.06-.94L8.5 2.5l-.94 2.06-2.06.94zm10 10l.94 2.06.94-2.06 2.06-.94-2.06-.94-.94-2.06-.94 2.06-2.06.94z\"/><path d=\"M17.41 7.96l-1.37-1.37c-.4-.4-.92-.59-1.43-.59-.52 0-1.04.2-1.43.59L10.3 9.45l-7.72 7.72c-.78.78-.78 2.05 0 2.83L4 21.41c.39.39.9.59 1.41.59.51 0 1.02-.2 1.41-.59l7.78-7.78 2.81-2.81c.8-.78.8-2.07 0-2.86zM5.41 20L4 18.59l7.72-7.72 1.47 1.35L5.41 20z\"/>\n",
              "  </svg>\n",
              "      </button>\n",
              "      \n",
              "  <style>\n",
              "    .colab-df-container {\n",
              "      display:flex;\n",
              "      flex-wrap:wrap;\n",
              "      gap: 12px;\n",
              "    }\n",
              "\n",
              "    .colab-df-convert {\n",
              "      background-color: #E8F0FE;\n",
              "      border: none;\n",
              "      border-radius: 50%;\n",
              "      cursor: pointer;\n",
              "      display: none;\n",
              "      fill: #1967D2;\n",
              "      height: 32px;\n",
              "      padding: 0 0 0 0;\n",
              "      width: 32px;\n",
              "    }\n",
              "\n",
              "    .colab-df-convert:hover {\n",
              "      background-color: #E2EBFA;\n",
              "      box-shadow: 0px 1px 2px rgba(60, 64, 67, 0.3), 0px 1px 3px 1px rgba(60, 64, 67, 0.15);\n",
              "      fill: #174EA6;\n",
              "    }\n",
              "\n",
              "    [theme=dark] .colab-df-convert {\n",
              "      background-color: #3B4455;\n",
              "      fill: #D2E3FC;\n",
              "    }\n",
              "\n",
              "    [theme=dark] .colab-df-convert:hover {\n",
              "      background-color: #434B5C;\n",
              "      box-shadow: 0px 1px 3px 1px rgba(0, 0, 0, 0.15);\n",
              "      filter: drop-shadow(0px 1px 2px rgba(0, 0, 0, 0.3));\n",
              "      fill: #FFFFFF;\n",
              "    }\n",
              "  </style>\n",
              "\n",
              "      <script>\n",
              "        const buttonEl =\n",
              "          document.querySelector('#df-7baaa9ae-3b50-4d6b-b8b6-6091477056e4 button.colab-df-convert');\n",
              "        buttonEl.style.display =\n",
              "          google.colab.kernel.accessAllowed ? 'block' : 'none';\n",
              "\n",
              "        async function convertToInteractive(key) {\n",
              "          const element = document.querySelector('#df-7baaa9ae-3b50-4d6b-b8b6-6091477056e4');\n",
              "          const dataTable =\n",
              "            await google.colab.kernel.invokeFunction('convertToInteractive',\n",
              "                                                     [key], {});\n",
              "          if (!dataTable) return;\n",
              "\n",
              "          const docLinkHtml = 'Like what you see? Visit the ' +\n",
              "            '<a target=\"_blank\" href=https://colab.research.google.com/notebooks/data_table.ipynb>data table notebook</a>'\n",
              "            + ' to learn more about interactive tables.';\n",
              "          element.innerHTML = '';\n",
              "          dataTable['output_type'] = 'display_data';\n",
              "          await google.colab.output.renderOutput(dataTable, element);\n",
              "          const docLink = document.createElement('div');\n",
              "          docLink.innerHTML = docLinkHtml;\n",
              "          element.appendChild(docLink);\n",
              "        }\n",
              "      </script>\n",
              "    </div>\n",
              "  </div>\n",
              "  "
            ]
          },
          "metadata": {}
        }
      ],
      "source": [
        "# converter 'Sex' em 0 e 1\n",
        "df_merged['Sex'] = df_merged['Sex'].map({'male': 0, 'female': 1})\n",
        "\n",
        "# dummie variables para 'Embaked'\n",
        "embarked_dummies = pd.get_dummies(df_merged['Embarked'], prefix='Embarked')\n",
        "df_merged = pd.concat([df_merged, embarked_dummies], axis=1)\n",
        "df_merged.drop('Embarked', axis=1, inplace=True)\n",
        "\n",
        "display(df_merged.head())"
      ]
    },
    {
      "cell_type": "markdown",
      "id": "44ece08c-741d-4669-a71c-bceada9fd995",
      "metadata": {
        "id": "44ece08c-741d-4669-a71c-bceada9fd995"
      },
      "source": [
        "Recuperando os datasets de treino e teste\n",
        "Aqui a gente acabou de preparar o dataset para o modelo e vou dividir df_merged em train e test, exatamente como era no começo.\n",
        "\n",
        "Agora você consegue entender a razão da concatenação lá em cima. Teríamos trabalho dobrado e ainda teria o risco de errarmos em alguma etapa."
      ]
    },
    {
      "cell_type": "code",
      "execution_count": 23,
      "id": "cb7d2762-f266-424e-894b-797b20eecfa6",
      "metadata": {
        "id": "cb7d2762-f266-424e-894b-797b20eecfa6"
      },
      "outputs": [],
      "source": [
        "# recuperar datasets de treino e teste\n",
        "train = df_merged.iloc[:train_idx]\n",
        "test = df_merged.iloc[train_idx:]"
      ]
    },
    {
      "cell_type": "markdown",
      "id": "f32a0b2c-da72-446e-90d7-bd2048b28bef",
      "metadata": {
        "id": "f32a0b2c-da72-446e-90d7-bd2048b28bef"
      },
      "source": [
        "5 Construção do Modelo e Avaliação\n",
        "Eu vivo falando no meu Instagram que a etapa mais demorada de qualquer projeto de Data Science é a Análise Exploratória de Dados e a preparação/tratamento deles.\n",
        "\n",
        "Todo cuidado que tivemos serviu para entender o problema, testar hipóteses e descartar dados desnecessários/redundantes.\n",
        "\n",
        "Com poucas linhas de código a gente consegue criar e otimizar modelos de Machine Learning básicos. Aqui, vamos construir dois:\n",
        "\n",
        "Modelo de Regressão Logística\n",
        "Modelo de Árvore de Decisão"
      ]
    },
    {
      "cell_type": "code",
      "execution_count": 24,
      "id": "dad31449-5e26-40d8-a433-979672f6df0f",
      "metadata": {
        "id": "dad31449-5e26-40d8-a433-979672f6df0f"
      },
      "outputs": [],
      "source": [
        "# importar bibliotecas do modelo de Machine Learning\n",
        "from sklearn.linear_model import LogisticRegression\n",
        "from sklearn.tree import DecisionTreeClassifier\n"
      ]
    },
    {
      "cell_type": "code",
      "execution_count": 41,
      "id": "13ac1740-a6a2-43b1-aa90-03f7cd767485",
      "metadata": {
        "colab": {
          "base_uri": "https://localhost:8080/",
          "height": 0
        },
        "id": "13ac1740-a6a2-43b1-aa90-03f7cd767485",
        "outputId": "ed180086-985a-49ee-c876-32017ba3aa87"
      },
      "outputs": [
        {
          "output_type": "stream",
          "name": "stdout",
          "text": [
            "Acurácia do modelo de Regressão Logística: 80.13\n"
          ]
        }
      ],
      "source": [
        "# criar um modelo de Regressão Logística\n",
        "lr_model = LogisticRegression(solver='liblinear')\n",
        "lr_model.fit(train, target)\n",
        "\n",
        "# verificar a acurácia do modelo\n",
        "acc_logReg = round(lr_model.score(train, target) * 100, 2)\n",
        "print(\"Acurácia do modelo de Regressão Logística: {}\".format(acc_logReg))\n",
        "\n"
      ]
    },
    {
      "cell_type": "markdown",
      "id": "6049b8d0-3ecd-49a5-9718-9fe729a8734b",
      "metadata": {
        "id": "6049b8d0-3ecd-49a5-9718-9fe729a8734b"
      },
      "source": [
        "Com praticamente duas linhas, construímos um modelo de Regressão Logística com acurácia de 80% em cima do conjunto de dados de treino.\n",
        "\n",
        "Esse resultado está excelente para um primeiro modelo. Vou aproveitar e fazer a previsão sobre o dataset de teste para submetermos ao Kaggle e comparar o desempenho."
      ]
    },
    {
      "cell_type": "code",
      "execution_count": 40,
      "id": "97949e61-c3ca-4903-a9a1-7b8d5a7294c1",
      "metadata": {
        "id": "97949e61-c3ca-4903-a9a1-7b8d5a7294c1"
      },
      "outputs": [],
      "source": [
        "y_pred_lr = lr_model.predict(test)\n",
        "\n",
        "submission = pd.DataFrame({\n",
        "    \"PassengerId\": passengerId,\n",
        "    \"Survived\": y_pred_lr\n",
        "})\n",
        "\n",
        "# gerar arquivo csv\n",
        "submission.to_csv('./submission_lr.csv', index=False)\n"
      ]
    },
    {
      "cell_type": "markdown",
      "id": "7984d09a-5eae-4aa7-bdec-938ac09217d9",
      "metadata": {
        "id": "7984d09a-5eae-4aa7-bdec-938ac09217d9"
      },
      "source": [
        "Como você vê na figura abaixo, nosso modelo conseguiu atingir um score de 75%."
      ]
    },
    {
      "cell_type": "markdown",
      "source": [],
      "metadata": {
        "id": "6TsiVx80g1hw"
      },
      "id": "6TsiVx80g1hw"
    },
    {
      "cell_type": "markdown",
      "source": [
        "![WhatsApp Image 2022-12-08 at 11.39.08 PM.jpeg](data:image/jpeg;base64,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)"
      ],
      "metadata": {
        "id": "rKpJZ_Aphc1b"
      },
      "id": "rKpJZ_Aphc1b"
    },
    {
      "cell_type": "code",
      "source": [],
      "metadata": {
        "id": "D9Qh782dhjH0"
      },
      "id": "D9Qh782dhjH0",
      "execution_count": null,
      "outputs": []
    }
  ],
  "metadata": {
    "kernelspec": {
      "display_name": "Python 3 (ipykernel)",
      "language": "python",
      "name": "python3"
    },
    "language_info": {
      "codemirror_mode": {
        "name": "ipython",
        "version": 3
      },
      "file_extension": ".py",
      "mimetype": "text/x-python",
      "name": "python",
      "nbconvert_exporter": "python",
      "pygments_lexer": "ipython3",
      "version": "3.9.12"
    },
    "toc-autonumbering": false,
    "toc-showcode": false,
    "toc-showmarkdowntxt": false,
    "toc-showtags": false,
    "colab": {
      "provenance": []
    }
  },
  "nbformat": 4,
  "nbformat_minor": 5
}